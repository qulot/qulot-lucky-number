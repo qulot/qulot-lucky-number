{
 "cells": [
  {
   "cell_type": "code",
   "execution_count": 1,
   "metadata": {},
   "outputs": [],
   "source": [
    "from qiskit import QuantumCircuit, Aer"
   ]
  },
  {
   "cell_type": "code",
   "execution_count": 2,
   "metadata": {},
   "outputs": [],
   "source": [
    "simulator = Aer.get_backend('aer_simulator')"
   ]
  },
  {
   "cell_type": "code",
   "execution_count": 3,
   "metadata": {},
   "outputs": [],
   "source": [
    "max = 9999\n",
    "\n",
    "bits_max = int(max).bit_length()\n",
    "circuit = QuantumCircuit(1, bits_max)"
   ]
  },
  {
   "cell_type": "code",
   "execution_count": 4,
   "metadata": {},
   "outputs": [],
   "source": [
    "def random():\n",
    "    for i in range(bits_max):\n",
    "        circuit.h(0)\n",
    "        circuit.measure(0,i)\n",
    "\n",
    "    result = simulator.run(circuit, shots=1).result()\n",
    "    counts = result.get_counts()\n",
    "\n",
    "    return int(list(counts.keys())[0], 2)"
   ]
  },
  {
   "cell_type": "code",
   "execution_count": 5,
   "metadata": {},
   "outputs": [
    {
     "name": "stdout",
     "output_type": "stream",
     "text": [
      "4580\n"
     ]
    }
   ],
   "source": [
    "\n",
    "print(random())"
   ]
  }
 ],
 "metadata": {
  "interpreter": {
   "hash": "f1beebd6ea55a114dc963e66dabbf790ed9cf9bf80138b713046e0065337e159"
  },
  "kernelspec": {
   "display_name": "Python 3.7.0 ('env': venv)",
   "language": "python",
   "name": "python3"
  },
  "language_info": {
   "codemirror_mode": {
    "name": "ipython",
    "version": 3
   },
   "file_extension": ".py",
   "mimetype": "text/x-python",
   "name": "python",
   "nbconvert_exporter": "python",
   "pygments_lexer": "ipython3",
   "version": "3.7.0"
  },
  "orig_nbformat": 4
 },
 "nbformat": 4,
 "nbformat_minor": 2
}
